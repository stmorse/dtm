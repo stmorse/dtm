{
 "cells": [
  {
   "cell_type": "markdown",
   "metadata": {},
   "source": [
    "# cluster trajectory via AHC"
   ]
  },
  {
   "cell_type": "code",
   "execution_count": 19,
   "metadata": {},
   "outputs": [],
   "source": [
    "import pickle\n",
    "\n",
    "import matplotlib.pyplot as plt\n",
    "import numpy as np\n",
    "from sklearn.cluster import AgglomerativeClustering\n",
    "from scipy.cluster.hierarchy import dendrogram, linkage"
   ]
  },
  {
   "cell_type": "code",
   "execution_count": 44,
   "metadata": {},
   "outputs": [
    {
     "name": "stdout",
     "output_type": "stream",
     "text": [
      "(150, 384)\n",
      "150\n"
     ]
    }
   ],
   "source": [
    "base_path = '/sciclone/geograd/stmorse/reddit/mbkm_50'\n",
    "months = ['03', '04', '05']\n",
    "\n",
    "# open cluster centers\n",
    "ccs = {}\n",
    "for i in range(3):\n",
    "    with open(f'{base_path}/models/model_cc_2011-{months[i]}.npz', 'rb') as f:\n",
    "        ccs[i] = np.load(f)['cc']\n",
    "C = np.vstack([ccs[i] for i in range(len(ccs))])\n",
    "print(C.shape)\n",
    "\n",
    "# open tfidf\n",
    "tfidfs = {}\n",
    "T = []\n",
    "for i in range(3):\n",
    "    with open(f'{base_path}/tfidf/tfidf_2011-{months[i]}.pkl', 'rb') as f:\n",
    "        tfidfs[i] = pickle.load(f)\n",
    "    # TODO: hacky, maybe 'tfidf' shouldn't be a dict\n",
    "    for j in range(len(tfidfs[i]['tfidf'].keys())):\n",
    "        T.append(tfidfs[i]['tfidf'][j]['keywords'])\n",
    "print(len(T))"
   ]
  },
  {
   "cell_type": "code",
   "execution_count": 51,
   "metadata": {},
   "outputs": [
    {
     "name": "stdout",
     "output_type": "stream",
     "text": [
      "(150, 384)\n"
     ]
    },
    {
     "data": {
      "image/png": "[encoded data removed]",
      "text/plain": [
       "<Figure size 1000x700 with 1 Axes>"
      ]
     },
     "metadata": {},
     "output_type": "display_data"
    }
   ],
   "source": [
    "# cluster centroids\n",
    "C = np.vstack([ccs[i] for i in range(len(ccs))])\n",
    "print(C.shape)\n",
    "\n",
    "# Perform hierarchical/agglomerative clustering\n",
    "Z = linkage(C[:100], 'ward')\n",
    "\n",
    "# Plot the dendrogram\n",
    "plt.figure(figsize=(10, 7))\n",
    "dendrogram(Z)\n",
    "plt.axhline(y=0.25, color='r', linestyle='--')\n",
    "\n",
    "plt.show()"
   ]
  },
  {
   "cell_type": "code",
   "execution_count": 52,
   "metadata": {},
   "outputs": [
    {
     "data": {
      "text/plain": [
       "94"
      ]
     },
     "execution_count": 52,
     "metadata": {},
     "output_type": "execute_result"
    }
   ],
   "source": [
    "ahc = AgglomerativeClustering(\n",
    "    n_clusters=None, \n",
    "    distance_threshold=0.25, \n",
    "    linkage='ward'\n",
    ")\n",
    "\n",
    "ahc.fit(C)\n",
    "ahc.n_clusters_"
   ]
  },
  {
   "cell_type": "code",
   "execution_count": 49,
   "metadata": {},
   "outputs": [
    {
     "name": "stdout",
     "output_type": "stream",
     "text": [
      "[ 29  91 125]\n",
      "29: ['government' 'tax' 'wealth' 'taxes' 'pay']\n",
      "91: ['money' 'government' 'profits' 'billion' 'companies']\n",
      "125: ['spending' 'cash' 'rich' 'spend' 'debt']\n"
     ]
    }
   ],
   "source": [
    "k = 2\n",
    "idx = np.where(ahc.labels_ == k)[0]\n",
    "print(idx)\n",
    "for x in idx:\n",
    "    print(f'{x}: {T[x][:5]}')"
   ]
  },
  {
   "cell_type": "code",
   "execution_count": null,
   "metadata": {},
   "outputs": [],
   "source": []
  },
  {
   "cell_type": "markdown",
   "metadata": {},
   "source": [
    "# Cluster trajectory testing"
   ]
  },
  {
   "cell_type": "code",
   "execution_count": 1,
   "metadata": {},
   "outputs": [],
   "source": [
    "import pickle\n",
    "\n",
    "import matplotlib.pyplot as plt\n",
    "import numpy as np"
   ]
  },
  {
   "cell_type": "code",
   "execution_count": 2,
   "metadata": {},
   "outputs": [],
   "source": [
    "# with open('/sciclone/geograd/stmorse/reddit/embeddings/embeddings_2009-03.npz', 'rb') as f:\n",
    "#     embedding0 = np.load(f)\n",
    "\n",
    "# with open('/sciclone/geograd/stmorse/reddit/embeddings/embeddings_2009-04.npz', 'rb') as f:\n",
    "#     embedding1 = np.load(f)\n",
    "\n",
    "with open('/sciclone/geograd/stmorse/reddit/test/tfidf_mbkm_80/tfidf_2011-03.pkl', 'rb') as f:\n",
    "    tfidf0 = pickle.load(f)\n",
    "\n",
    "with open('/sciclone/geograd/stmorse/reddit/test/tfidf_mbkm_80/tfidf_2011-04.pkl', 'rb') as f:\n",
    "    tfidf1 = pickle.load(f)\n",
    "\n",
    "with open('/sciclone/geograd/stmorse/reddit/test/maps_mbkm_80/maps_2011-03.pkl', 'rb') as f:\n",
    "    output = pickle.load(f)"
   ]
  },
  {
   "cell_type": "code",
   "execution_count": 3,
   "metadata": {},
   "outputs": [
    {
     "data": {
      "text/plain": [
       "(dict_keys(['year', 'month', 'full', 'tfidf']),\n",
       " dict_keys(['year', 'month', 'cluster_map', 'similarity']))"
      ]
     },
     "execution_count": 3,
     "metadata": {},
     "output_type": "execute_result"
    }
   ],
   "source": [
    "tfidf0.keys(), output.keys()"
   ]
  },
  {
   "cell_type": "code",
   "execution_count": 4,
   "metadata": {},
   "outputs": [
    {
     "data": {
      "text/plain": [
       "dict_keys(['sample_indices', 'keywords'])"
      ]
     },
     "execution_count": 4,
     "metadata": {},
     "output_type": "execute_result"
    }
   ],
   "source": [
    "tfidf0['tfidf'][0].keys()"
   ]
  },
  {
   "cell_type": "code",
   "execution_count": 6,
   "metadata": {},
   "outputs": [
    {
     "name": "stdout",
     "output_type": "stream",
     "text": [
      "5\n",
      "['king' 'aliens' 'marry' 'gases' 'scheherazade' 'virgins' 'blah' 'aladdin'\n",
      " 'prints' 'belief' 'sleep' 'tale' 'visited' 'nights' 'greenhouse'\n",
      " 'penthouse' 'altruism' 'talks' 'genes' 'color']\n",
      "  10: 0.026 -- ['philosophy' 'fiber' 'yang' 'fountainhead' 'thompson' 'null' 'kan' 'int'\n",
      " 'rand' 'objective' 'comcast' 'religion' 'blah' 'nervous' 'peta'\n",
      " 'evolutionary' 'worry' 'proud' 'interdisciplinary' 'motors']\n",
      "  19: 0.026 -- ['gene' 'therapy' 'dun' 'genes' 'cells' 'paste' 'sangamo' 'hiv' 'miter'\n",
      " 'vortexoptics' 'pst' 'immune' 'optics' 'democracy' 'finger' 'albeit'\n",
      " 'patients' 'vivo' 'cps' 'cancers']\n",
      "  54: 0.026 -- ['doot' 'vcs' 'isp' 'vr' 'cc' 'files' 'truth' 'tank' 'blah'\n",
      " 'libertarianism' 'norway' 'distance' 'draw' 'squirrels' 'fucksouthdakota'\n",
      " 'hayek' 'dee' 'hdi' 'frogs' 'nsa']\n",
      "  59: 0.053 -- ['greenhouse' 'plumber' 'gases' 'warming' 'global' 'navy' 'danger' 'pic'\n",
      " 'cent' 'guitar' 'per' 'families' 'yokosuka' 'nitrous' 'methane'\n",
      " 'capability' 'globe' 'machine' 'oxide' 'affected']\n",
      "  61: 0.026 -- ['praying' 'pcp' 'microsoft' 'infantry' 'blah' 'drop' 'bikes' 'hes'\n",
      " 'wawrzyniec' 'heron' 'polish' 'skitty' 'malware' 'fleece' 'keed' 'common'\n",
      " '3s' 'shrooms' 'ancestor' 'tablet']\n",
      "6\n",
      "['saddam' 'drm' 'blue' 'river' 'hah' 'deep' 'genocide' 'templars'\n",
      " 'mothership' 'iraq' 'route' 'towns' 'tech' 'exercise' 'hall' 'target'\n",
      " 'calculator' 'roothless' 'panties' 'krauthammer']\n",
      "  26: 0.026 -- ['caltrain' 'cuff' 'rotator' 'riftgame' 'nda' 'sleeves' 'jose' 'rail'\n",
      " 'hearted' 'cold' 'christian' 'laid' 'depressing' 'transfer' 'exercise'\n",
      " 'obvious' 'attractive' 'coworkers' 'security' '5k']\n",
      "  35: 0.026 -- ['perry' 'bus' 'tyler' 'p4p' 'spin' 'tier' 'tech' 'girlfriend' 'poli'\n",
      " 'scheduled' 'systemprofile' 'discrimination' 'robotics' 'knuckles'\n",
      " 'klitschko' 'train' 'esc' 'insulin' 'multimedia' 'conversation']\n",
      "  49: 0.026 -- ['co2' 'nom' 'cubic' 'distance' 'kg' 'suicide' 'per' 'barrels' 'audio'\n",
      " 'conservative' 'division' 'blue' 'hipsterism' 'shalt' 'ppm' 'trillion'\n",
      " 'zilean' 'laning' 'tags' 'jimmer']\n",
      "  66: 0.026 -- ['e3' '81' 'squirrel' 'intrstd' 'choices' 'river' 'alfred' 'buddhism'\n",
      " 'massrifle' 'cholesterol' 'saf' 'robbers' 'dried' 'copying' 'respectable'\n",
      " 'grandfather' 'discriminate' 'truck' 'rope' 'sword']\n",
      "7\n",
      "['lings' 'buff' 'mash' 'understanding' 'efficiency' 'aspect' 'roaches'\n",
      " 'observer' 'spiritual' 'deus' 'brewhouse' 'scientiæ' 'epidural'\n",
      " 'pakistan' 'insisted' 'warming' 'spewing' 'creepy' 'hoping' 'processes']\n",
      "  1: 0.026 -- ['ibogaine' 'iboga' 'valores' 'witi' 'familia' 'addicts' 'withdrawl'\n",
      " 'años' 'somethingawful' 'tus' 'plant' 'spiritual' 'intense' 'addict'\n",
      " '3398851' 'climb' 'propia' 'dichos' 'ceremony' 'hijos']\n",
      "  20: 0.026 -- ['sources' 'hua' 'crack' 'graph' 'monogamy' 'protecting' 'currency'\n",
      " 'protected' 'choosing' 'puke' 'structural' 'entering' 'paddy'\n",
      " 'psychedelicists' 'mississippi' 'driver' 'pack' 'common' 'recreational'\n",
      " 'spiritual']\n",
      "  59: 0.026 -- ['greenhouse' 'plumber' 'gases' 'warming' 'global' 'navy' 'danger' 'pic'\n",
      " 'cent' 'guitar' 'per' 'families' 'yokosuka' 'nitrous' 'methane'\n",
      " 'capability' 'globe' 'machine' 'oxide' 'affected']\n",
      "8\n",
      "['research' 'teaching' 'professors' 'puddles' 'undergrad' 'universities'\n",
      " 'install' 'puddle' 'excluded' 'university' 'putter' 'undergraduate'\n",
      " 'spire' 'splash' 'dresser' 'freestyleski4' 'tenured' 'i9000' 'protector'\n",
      " 'stealth']\n",
      "9\n",
      "['freedom' 'tap' 'fuji' 'bottled' 'shorting' 'tuition' 'brita' 'loans'\n",
      " 'engineer' 'hedging' 'fluoride' 'synesthesia' 'uv' 'glyph' 'milking'\n",
      " 'filtration' 'client' 'draw' 'archivist' 'housing']\n",
      "  12: 0.026 -- ['chicken' 'pan' 'corporations' 'tortillas' 'shoot' 'stance' 'lettuce'\n",
      " 'training' 'tomatoes' 'garlic' 'peppers' 'abiogenesis' 'roast' 'clock'\n",
      " 'throw' 'chili' 'liberty' 'junk' 'freedom' 'bends']\n",
      "  50: 0.026 -- ['9mm' 'wq' 'reactor' 'qq' 'suppressed' 'biotechnology' 'seo' 'rounds'\n",
      " '45' 'subsonic' 'pixels' 'qqq' 'lt' 'bible' 'protests' 'sw' 'concrete'\n",
      " 'client' 'perform' 'radioactive']\n",
      "  54: 0.026 -- ['doot' 'vcs' 'isp' 'vr' 'cc' 'files' 'truth' 'tank' 'blah'\n",
      " 'libertarianism' 'norway' 'distance' 'draw' 'squirrels' 'fucksouthdakota'\n",
      " 'hayek' 'dee' 'hdi' 'frogs' 'nsa']\n"
     ]
    }
   ],
   "source": [
    "n0 = len(tfidf0['tfidf'])\n",
    "\n",
    "for i in range(5, 10):\n",
    "    print(i)\n",
    "    print(tfidf0['tfidf'][i]['keywords'])\n",
    "    idx = np.where(output['similarity'][i] > 0)[0]\n",
    "    for j in idx:\n",
    "        print(f'  {j}: {output['similarity'][i,j]:.3f} -- {tfidf1['tfidf'][j]['keywords']}')"
   ]
  },
  {
   "cell_type": "code",
   "execution_count": 16,
   "metadata": {},
   "outputs": [
    {
     "data": {
      "text/plain": [
       "<matplotlib.image.AxesImage at 0x152d0e9ee5d0>"
      ]
     },
     "execution_count": 16,
     "metadata": {},
     "output_type": "execute_result"
    },
    {
     "data": {
      "image/png": "[encoded data removed]",
      "text/plain": [
       "<Figure size 640x480 with 1 Axes>"
      ]
     },
     "metadata": {},
     "output_type": "display_data"
    }
   ],
   "source": [
    "plt.imshow(output['similarity'], cmap='Blues', vmin=0, vmax=np.amax(output['similarity']))"
   ]
  },
  {
   "cell_type": "markdown",
   "metadata": {},
   "source": [
    "# Bipartite graph test"
   ]
  },
  {
   "cell_type": "code",
   "execution_count": 3,
   "metadata": {},
   "outputs": [],
   "source": [
    "import networkx as nx"
   ]
  },
  {
   "cell_type": "code",
   "execution_count": 6,
   "metadata": {},
   "outputs": [
    {
     "name": "stdout",
     "output_type": "stream",
     "text": [
      "0: {'v1', 'u1', 'u0'}\n",
      "1: {'u3', 'v3', 'v0', 'v2', 'u2'}\n"
     ]
    }
   ],
   "source": [
    "G = nx.Graph()\n",
    "\n",
    "n = 4\n",
    "\n",
    "U = [f'u{i}' for i in range(n)]\n",
    "V = [f'v{i}' for i in range(n)]\n",
    "G.add_nodes_from(U, bipartite=0)\n",
    "G.add_nodes_from(V, bipartite=1)\n",
    "\n",
    "B = np.array([\n",
    "    [0, 0.4, 0, 0.01],\n",
    "    [0, 0.8, 0, 0.02],\n",
    "    [0.9, 0, 0, 0],\n",
    "    [0.1, 0, 0.1, 0.85]\n",
    "])\n",
    "\n",
    "threshold = 0.1\n",
    "\n",
    "for i in range(B.shape[0]):\n",
    "    for j in range(B.shape[1]):\n",
    "        if B[i,j] >= threshold:\n",
    "            G.add_edge(U[i], V[j])\n",
    "\n",
    "connected_components = list(nx.connected_components(G))\n",
    "\n",
    "for i, component in enumerate(connected_components):\n",
    "    print(f'{i}: {component}')"
   ]
  },
  {
   "cell_type": "code",
   "execution_count": null,
   "metadata": {},
   "outputs": [],
   "source": []
  },
  {
   "cell_type": "code",
   "execution_count": null,
   "metadata": {},
   "outputs": [],
   "source": []
  }
 ],
 "metadata": {
  "kernelspec": {
   "display_name": "venv",
   "language": "python",
   "name": "python3"
  },
  "language_info": {
   "codemirror_mode": {
    "name": "ipython",
    "version": 3
   },
   "file_extension": ".py",
   "mimetype": "text/x-python",
   "name": "python",
   "nbconvert_exporter": "python",
   "pygments_lexer": "ipython3",
   "version": "3.12.7"
  }
 },
 "nbformat": 4,
 "nbformat_minor": 2
}
