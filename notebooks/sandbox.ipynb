{
 "cells": [
  {
   "cell_type": "code",
   "execution_count": 1,
   "metadata": {},
   "outputs": [],
   "source": [
    "import pickle\n",
    "\n",
    "import matplotlib.pyplot as plt\n",
    "import numpy as np"
   ]
  },
  {
   "cell_type": "code",
   "execution_count": 3,
   "metadata": {},
   "outputs": [],
   "source": [
    "with open('/sciclone/geograd/stmorse/reddit/test/embeddings/embeddings_2007-03.npz', 'rb') as f:\n",
    "    embedding0 = np.load(f)\n",
    "\n",
    "with open('/sciclone/geograd/stmorse/reddit/test/embeddings/embeddings_2007-04.npz', 'rb') as f:\n",
    "    embedding1 = np.load(f)\n",
    "\n",
    "with open('/sciclone/geograd/stmorse/reddit/test/tfidf_mbkm_80/tfidf_2007-03.pkl', 'rb') as f:\n",
    "    tfidf0 = pickle.load(f)\n",
    "\n",
    "with open('/sciclone/geograd/stmorse/reddit/test/tfidf_mbkm_80/tfidf_2007-04.pkl', 'rb') as f:\n",
    "    tfidf1 = pickle.load(f)\n",
    "\n",
    "with open('/sciclone/geograd/stmorse/reddit/test/maps_mbkm_80/maps_2007-03.pkl', 'rb') as f:\n",
    "    output = pickle.load(f)"
   ]
  },
  {
   "cell_type": "code",
   "execution_count": 4,
   "metadata": {},
   "outputs": [
    {
     "data": {
      "text/plain": [
       "(dict_keys(['year', 'month', 'tfidf']),\n",
       " dict_keys(['year', 'month', 'cluster_map', 'similarity']))"
      ]
     },
     "execution_count": 4,
     "metadata": {},
     "output_type": "execute_result"
    }
   ],
   "source": [
    "tfidf0.keys(), output.keys()"
   ]
  },
  {
   "cell_type": "code",
   "execution_count": 6,
   "metadata": {},
   "outputs": [
    {
     "data": {
      "text/plain": [
       "dict_keys(['sample_indices', 'keywords'])"
      ]
     },
     "execution_count": 6,
     "metadata": {},
     "output_type": "execute_result"
    }
   ],
   "source": [
    "tfidf0['tfidf'][0].keys()"
   ]
  },
  {
   "cell_type": "code",
   "execution_count": 7,
   "metadata": {},
   "outputs": [
    {
     "name": "stdout",
     "output_type": "stream",
     "text": [
      "0\n",
      "['lbs' 'ipcc' 'scientists' 'trait' 'rattus' 'realworld' 'organism'\n",
      " 'genetics' 'nigger' 'gene']\n",
      "1\n",
      "['lbs' 'ipcc' 'scientists' 'trait' 'rattus' 'realworld' 'organism'\n",
      " 'genetics' 'nigger' 'gene']\n",
      "  23: 0.053 -- ['underwear' 'wing' 'blah' 'carrier' 'broken' 'blockquote' 'lame' 'unc'\n",
      " 'unverified' 'seperation']\n",
      "2\n",
      "['lbs' 'ipcc' 'scientists' 'trait' 'rattus' 'realworld' 'organism'\n",
      " 'genetics' 'nigger' 'gene']\n",
      "  23: 0.053 -- ['underwear' 'wing' 'blah' 'carrier' 'broken' 'blockquote' 'lame' 'unc'\n",
      " 'unverified' 'seperation']\n",
      "3\n",
      "['lbs' 'ipcc' 'scientists' 'trait' 'rattus' 'realworld' 'organism'\n",
      " 'genetics' 'nigger' 'gene']\n",
      "4\n",
      "['lbs' 'ipcc' 'scientists' 'trait' 'rattus' 'realworld' 'organism'\n",
      " 'genetics' 'nigger' 'gene']\n",
      "  68: 0.053 -- ['petition' 'rep' 'clarke' 'davis' 'beach' 'watson' 'represent'\n",
      " 'synthesis' 'delusion' '1972']\n"
     ]
    }
   ],
   "source": [
    "n0 = len(tfidf0['tfidf'])\n",
    "\n",
    "for i in range(5):\n",
    "    print(i)\n",
    "    print(tfidf0['tfidf'][0]['keywords'])\n",
    "    idx = np.where(output['similarity'][i] > 0)[0]\n",
    "    for j in idx:\n",
    "        print(f'  {j}: {output['similarity'][i,j]:.3f} -- {tfidf1['tfidf'][j]['keywords']}')"
   ]
  },
  {
   "cell_type": "code",
   "execution_count": 7,
   "metadata": {},
   "outputs": [
    {
     "data": {
      "text/plain": [
       "<matplotlib.image.AxesImage at 0x152e09562780>"
      ]
     },
     "execution_count": 7,
     "metadata": {},
     "output_type": "execute_result"
    },
    {
     "data": {
      "image/png": "[encoded data removed]",
      "text/plain": [
       "<Figure size 640x480 with 1 Axes>"
      ]
     },
     "metadata": {},
     "output_type": "display_data"
    }
   ],
   "source": [
    "plt.imshow(output['similarity'], cmap='Blues', vmin=0, vmax=np.amax(output['similarity']))"
   ]
  },
  {
   "cell_type": "code",
   "execution_count": null,
   "metadata": {},
   "outputs": [],
   "source": []
  },
  {
   "cell_type": "code",
   "execution_count": null,
   "metadata": {},
   "outputs": [],
   "source": []
  }
 ],
 "metadata": {
  "kernelspec": {
   "display_name": "venv",
   "language": "python",
   "name": "python3"
  },
  "language_info": {
   "codemirror_mode": {
    "name": "ipython",
    "version": 3
   },
   "file_extension": ".py",
   "mimetype": "text/x-python",
   "name": "python",
   "nbconvert_exporter": "python",
   "pygments_lexer": "ipython3",
   "version": "3.12.7"
  }
 },
 "nbformat": 4,
 "nbformat_minor": 2
}
