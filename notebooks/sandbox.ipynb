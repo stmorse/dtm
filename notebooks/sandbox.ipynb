{
 "cells": [
  {
   "cell_type": "code",
   "execution_count": 1,
   "metadata": {},
   "outputs": [],
   "source": [
    "import pickle\n",
    "\n",
    "import matplotlib.pyplot as plt\n",
    "import numpy as np"
   ]
  },
  {
   "cell_type": "code",
   "execution_count": 12,
   "metadata": {},
   "outputs": [],
   "source": [
    "# with open('/sciclone/geograd/stmorse/reddit/embeddings/embeddings_2009-03.npz', 'rb') as f:\n",
    "#     embedding0 = np.load(f)\n",
    "\n",
    "# with open('/sciclone/geograd/stmorse/reddit/embeddings/embeddings_2009-04.npz', 'rb') as f:\n",
    "#     embedding1 = np.load(f)\n",
    "\n",
    "with open('/sciclone/geograd/stmorse/reddit/test/tfidf_mbkm_80/tfidf_2011-03.pkl', 'rb') as f:\n",
    "    tfidf0 = pickle.load(f)\n",
    "\n",
    "with open('/sciclone/geograd/stmorse/reddit/test/tfidf_mbkm_80/tfidf_2011-04.pkl', 'rb') as f:\n",
    "    tfidf1 = pickle.load(f)\n",
    "\n",
    "with open('/sciclone/geograd/stmorse/reddit/test/maps_mbkm_80/maps_2011-03.pkl', 'rb') as f:\n",
    "    output = pickle.load(f)"
   ]
  },
  {
   "cell_type": "code",
   "execution_count": 13,
   "metadata": {},
   "outputs": [
    {
     "data": {
      "text/plain": [
       "(dict_keys(['year', 'month', 'full', 'tfidf']),\n",
       " dict_keys(['year', 'month', 'cluster_map', 'similarity']))"
      ]
     },
     "execution_count": 13,
     "metadata": {},
     "output_type": "execute_result"
    }
   ],
   "source": [
    "tfidf0.keys(), output.keys()"
   ]
  },
  {
   "cell_type": "code",
   "execution_count": 14,
   "metadata": {},
   "outputs": [
    {
     "data": {
      "text/plain": [
       "dict_keys(['sample_indices', 'keywords'])"
      ]
     },
     "execution_count": 14,
     "metadata": {},
     "output_type": "execute_result"
    }
   ],
   "source": [
    "tfidf0['tfidf'][0].keys()"
   ]
  },
  {
   "cell_type": "code",
   "execution_count": 15,
   "metadata": {},
   "outputs": [
    {
     "name": "stdout",
     "output_type": "stream",
     "text": [
      "0\n",
      "['verdun' 'neighbourhood' 'ville' 'neighbourhoods' 'assistance' 'ram'\n",
      " 'pasted' 'premiums' 'montréal' 'lasalle' 'lots' 'blame' 'shotguns'\n",
      " 'corgi' 'star' 'ive' 'mildly' 'expanded' 'royal' 'hunting']\n",
      "  31: 0.026 -- ['lein' 'steam' 'gmail' 'gulf' 'address' 'servers' 'videos' 'tlpd' '15kg'\n",
      " 'helloworld' 'gfwl' 'mail' 'lots' 'cake' 'jref' 'attraction' 'expenses'\n",
      " 'leiningen' 'letter' 'ramp']\n",
      "1\n",
      "['verdun' 'neighbourhood' 'ville' 'neighbourhoods' 'assistance' 'ram'\n",
      " 'pasted' 'premiums' 'montréal' 'lasalle' 'lots' 'blame' 'shotguns'\n",
      " 'corgi' 'star' 'ive' 'mildly' 'expanded' 'royal' 'hunting']\n",
      "  6: 0.026 -- ['nostalgia' 'speaking' 'photo' 'regenerations' 'lords' 'stays' 'vortex'\n",
      " 'infrastructure' 'c3' 'dolphin' 'resource' 'limited' 'device' 'choke'\n",
      " 'sites' 'baseball' 'limits' 'wormhole' 'avp' 'dove']\n",
      "  30: 0.026 -- ['israel' 'fw' 'hamas' 'gaza' 'actions' 'palestinian' 'giants'\n",
      " 'acknowledge' 'psychology' 'eliminate' 'fishing' 'lane' 'functions'\n",
      " 'violent' 'colfax' 'scold' 'adjustment' 'bos' 'scolding' 'forensic']\n",
      "2\n",
      "['verdun' 'neighbourhood' 'ville' 'neighbourhoods' 'assistance' 'ram'\n",
      " 'pasted' 'premiums' 'montréal' 'lasalle' 'lots' 'blame' 'shotguns'\n",
      " 'corgi' 'star' 'ive' 'mildly' 'expanded' 'royal' 'hunting']\n",
      "  0: 0.026 -- ['mutts' 'rape' 'snake' 'jinro' 'mario' 'population' 'recite' 'recessive'\n",
      " 'breds' 'njo' 'autosomal' 'bully' 'mmos' 'bred' 'healthier' 'scroll'\n",
      " 'merely' 'fallacy' 'pledge' 'complexes']\n",
      "  5: 0.026 -- ['th3' 'positive' 'petrol' 'eevee' 'whaaa' 'creddit' '그리고' 'teachers'\n",
      " 'result' 'funeral' 'wallpaper' 'uk' 'buddy' 'authors' 'crush' 'aft3r'\n",
      " 'us3' 'titles' 'genres' 'gold']\n",
      "  22: 0.026 -- ['standardize' 'expedite' 'oda' 'kv' 'suffering' 'usage' 'egoism' 'paper'\n",
      " 'prayer' 'claims' 'helped' 'interests' 'oven' 'process' 'reduced'\n",
      " 'pancreatitis' 'acquaintances' 'paralysis' 'correct' 'fallacy']\n",
      "  77: 0.026 -- ['moore' 'michael' 'fans' 'eu' 'cfm' 'clinton' 'dungeon' 'pollitical'\n",
      " 'screw' 'battle' 'mensrights' 'gpu' 'air' 'parties' 'union' 'perjury'\n",
      " 'th' 'obstruction' 'michigan' 'convicted']\n",
      "3\n",
      "['verdun' 'neighbourhood' 'ville' 'neighbourhoods' 'assistance' 'ram'\n",
      " 'pasted' 'premiums' 'montréal' 'lasalle' 'lots' 'blame' 'shotguns'\n",
      " 'corgi' 'star' 'ive' 'mildly' 'expanded' 'royal' 'hunting']\n",
      "4\n",
      "['verdun' 'neighbourhood' 'ville' 'neighbourhoods' 'assistance' 'ram'\n",
      " 'pasted' 'premiums' 'montréal' 'lasalle' 'lots' 'blame' 'shotguns'\n",
      " 'corgi' 'star' 'ive' 'mildly' 'expanded' 'royal' 'hunting']\n",
      "  3: 0.026 -- ['paralleling' 'creationism' 'precedent' 'highground' 'religious'\n",
      " 'strawman' 'scotus' 'rewards' 'ron' 'office' 'thë' 'growth' 'moral'\n",
      " 'banned' 'jobs' 'hiphop' 'sustained' 'felon' 'mp4' 'civillians']\n",
      "  7: 0.026 -- ['handbrake' 'synaesthesia' 'journaling' 'textbooks' 'pray' 'circuit'\n",
      " 'park' 'seatbelt' 'dx11' 'fr' 'rollercoaster' 'identification' 'bla'\n",
      " 'pypi' 'speed' '125' 'pizza' 'thin' 'flags' 'gate']\n",
      "  30: 0.026 -- ['israel' 'fw' 'hamas' 'gaza' 'actions' 'palestinian' 'giants'\n",
      " 'acknowledge' 'psychology' 'eliminate' 'fishing' 'lane' 'functions'\n",
      " 'violent' 'colfax' 'scold' 'adjustment' 'bos' 'scolding' 'forensic']\n",
      "  53: 0.026 -- ['pushups' 'trolley' 'arc' 'depression' 'alcohol' 'f33l' 'pitching' 'drug'\n",
      " 'helped' 'marijuana' 'viper' 'fat' 'mets' 'libertarians' 'muscle' 'moral'\n",
      " 'smoking' 'eric' 'randomnizer' 'r4p3']\n",
      "  65: 0.026 -- ['islam' 'conditions' 'islamic' 'economic' 'survival' 'countries' 'muslim'\n",
      " 'intellectuals' 'scientific' 'jesus' 'modern' 'willingness' 'strong'\n",
      " 'adapt' 'currency' 'discussion' 'political' 'christianity' 'moral'\n",
      " 'libya']\n"
     ]
    }
   ],
   "source": [
    "n0 = len(tfidf0['tfidf'])\n",
    "\n",
    "for i in range(5):\n",
    "    print(i)\n",
    "    print(tfidf0['tfidf'][0]['keywords'])\n",
    "    idx = np.where(output['similarity'][i] > 0)[0]\n",
    "    for j in idx:\n",
    "        print(f'  {j}: {output['similarity'][i,j]:.3f} -- {tfidf1['tfidf'][j]['keywords']}')"
   ]
  },
  {
   "cell_type": "code",
   "execution_count": 16,
   "metadata": {},
   "outputs": [
    {
     "data": {
      "text/plain": [
       "<matplotlib.image.AxesImage at 0x152d0e9ee5d0>"
      ]
     },
     "execution_count": 16,
     "metadata": {},
     "output_type": "execute_result"
    },
    {
     "data": {
      "image/png": "[encoded data removed]",
      "text/plain": [
       "<Figure size 640x480 with 1 Axes>"
      ]
     },
     "metadata": {},
     "output_type": "display_data"
    }
   ],
   "source": [
    "plt.imshow(output['similarity'], cmap='Blues', vmin=0, vmax=np.amax(output['similarity']))"
   ]
  },
  {
   "cell_type": "code",
   "execution_count": null,
   "metadata": {},
   "outputs": [],
   "source": []
  },
  {
   "cell_type": "code",
   "execution_count": null,
   "metadata": {},
   "outputs": [],
   "source": []
  }
 ],
 "metadata": {
  "kernelspec": {
   "display_name": "venv",
   "language": "python",
   "name": "python3"
  },
  "language_info": {
   "codemirror_mode": {
    "name": "ipython",
    "version": 3
   },
   "file_extension": ".py",
   "mimetype": "text/x-python",
   "name": "python",
   "nbconvert_exporter": "python",
   "pygments_lexer": "ipython3",
   "version": "3.12.7"
  }
 },
 "nbformat": 4,
 "nbformat_minor": 2
}
